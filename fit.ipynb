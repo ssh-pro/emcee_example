{
 "cells": [
  {
   "cell_type": "code",
   "execution_count": 2,
   "metadata": {},
   "outputs": [],
   "source": [
    "%matplotlib inline\n",
    "import matplotlib.pyplot as plt\n",
    "import numpy as np\n",
    "import emcee"
   ]
  },
  {
   "cell_type": "code",
   "execution_count": 3,
   "metadata": {},
   "outputs": [],
   "source": [
    "x, y, yerr = np.loadtxt(\"data.dat\", unpack = True)"
   ]
  },
  {
   "cell_type": "code",
   "execution_count": 4,
   "metadata": {},
   "outputs": [
    {
     "data": {
      "text/plain": [
       "<Container object of 3 artists>"
      ]
     },
     "execution_count": 4,
     "metadata": {},
     "output_type": "execute_result"
    },
    {
     "data": {
      "image/png": "[encoded data removed]",
      "text/plain": [
       "<matplotlib.figure.Figure at 0x118441710>"
      ]
     },
     "metadata": {
      "needs_background": "light"
     },
     "output_type": "display_data"
    }
   ],
   "source": [
    "plt.errorbar(x,y,yerr, fmt=\"o\")"
   ]
  },
  {
   "cell_type": "code",
   "execution_count": 5,
   "metadata": {},
   "outputs": [],
   "source": [
    "def f(x, a, b):\n",
    "    return a*x+b"
   ]
  },
  {
   "cell_type": "code",
   "execution_count": 6,
   "metadata": {},
   "outputs": [],
   "source": [
    "# model y = ax + b\n",
    "# theta = (a,b)\n",
    "def lnlike(theta, x, y, yerr):\n",
    "    # log(likelihood)\n",
    "    # likelihood = exp(-chi^2/2)\n",
    "    # log(likelihood) = -chi^2/2\n",
    "    a, b = theta\n",
    "    chi2 = np.sum((y - f(x, a, b))**2/yerr**2)\n",
    "    # print \"chi2:\", chi2\n",
    "    return -0.5*chi2\n"
   ]
  },
  {
   "cell_type": "code",
   "execution_count": 7,
   "metadata": {},
   "outputs": [
    {
     "data": {
      "text/plain": [
       "-4.7867297545267764"
      ]
     },
     "execution_count": 7,
     "metadata": {},
     "output_type": "execute_result"
    }
   ],
   "source": [
    "lnlike((1,0), x, y, yerr)"
   ]
  },
  {
   "cell_type": "code",
   "execution_count": 8,
   "metadata": {},
   "outputs": [
    {
     "name": "stdout",
     "output_type": "stream",
     "text": [
      "[array([ 1.05194606, -0.62405536]), array([ 0.8315804 , -0.76775588]), array([ 2.15893887, -0.30285934]), array([ 2.72309082,  0.24055892]), array([ 1.44247455,  0.34054668]), array([ 2.34582524, -0.96283732]), array([ 0.89716762, -0.44167941]), array([ 0.78395468, -0.64296435]), array([ 1.70831875, -0.01718065]), array([ 1.5356591 , -0.40935905]), array([ 1.81552226, -0.30732019]), array([ 1.48185254, -0.45171802]), array([ 1.30014416, -0.82847074]), array([ 1.77187814, -1.07786233]), array([ 1.14416737,  0.01547967]), array([ 1.29031009, -0.11813921]), array([ 1.11375684, -0.35146185]), array([ 1.58696138, -0.72059189]), array([ 1.16105911,  0.60021262]), array([ 1.439652  , -0.39946891]), array([ 1.32994594, -0.46046951]), array([ 2.04518059, -0.18532073]), array([ 1.66835831, -1.11884306]), array([ 1.90373533, -0.29617005]), array([ 1.46450715, -0.3273894 ]), array([ 2.00797981, -1.08595433]), array([ 1.33427573, -0.22369937]), array([ 1.90987715,  0.37820516]), array([ 1.26289505, -0.80096382]), array([ 0.56568992,  0.00553694]), array([ 1.1692276 , -0.88199264]), array([ 0.88367039, -0.60582259]), array([ 1.91012421,  0.02189181]), array([ 1.97303046, -0.57698975]), array([ 1.35674206, -1.47018528]), array([ 1.7343856 , -0.48491137]), array([ 0.93494137, -0.3193511 ]), array([ 0.89226372, -0.60294584]), array([ 1.6708421, -0.3029463]), array([ 1.67933924, -0.27854356]), array([ 1.75732445,  0.92796176]), array([ 1.16471454, -0.62140242]), array([ 1.42883553, -0.48174845]), array([ 1.86532137, -0.91075646]), array([ 2.04311756,  0.16633792]), array([ 1.28104047,  0.11260982]), array([ 2.07472814, -0.39487856]), array([ 2.65455306,  0.28010089]), array([ 1.75241617, -0.34098585]), array([ 1.15432129, -0.69772924]), array([ 2.21416123, -0.88167011]), array([ 1.43326117, -0.19107981]), array([ 0.72997037, -0.24836184]), array([ 2.8091136 ,  0.13433506]), array([ 1.46947213, -0.39156585]), array([ 1.60321543, -0.46399314]), array([ 0.90405241, -0.57462659]), array([ 1.65982213, -0.02616359]), array([ 1.35822078, -1.52971915]), array([ 1.34871015, -0.88129281]), array([ 2.13244424,  0.13898347]), array([ 1.96690797, -0.30652619]), array([ 0.49695649, -0.32957016]), array([ 1.63780308, -0.72607611]), array([ 1.74669185, -0.34690802]), array([ 2.16333399, -0.26250069]), array([ 1.18758599, -0.71840029]), array([ 0.70213785, -1.10852289]), array([ 1.74536418, -0.69031049]), array([ 1.63541179, -0.13295192]), array([ 1.62115439, -0.56443469]), array([ 1.3364085 ,  0.25517114]), array([ 1.60324322, -0.94953296]), array([ 1.94093261, -0.93489061]), array([ 1.24754382, -1.02565342]), array([ 1.19952516, -0.90118424]), array([ 2.54317303, -0.60316983]), array([ 1.02052791,  0.08385364]), array([ 1.50794463, -0.64140404]), array([ 1.2125083 , -1.09117402]), array([ 0.91785305, -0.71103326]), array([ 1.26197163, -0.50976546]), array([ 2.0853003 , -0.92014676]), array([ 0.71612205, -0.75566008]), array([ 2.69231454, -1.49280001]), array([ 1.76537014, -0.42483739]), array([ 1.61482663, -0.20020124]), array([ 1.00072069, -0.92796915]), array([ 1.41731411, -0.82752151]), array([ 1.05900498, -0.82818263]), array([ 1.30680673, -0.21927361]), array([ 1.60424057, -0.87561879]), array([ 1.50462976, -1.05504339]), array([ 2.12934014, -1.16180312]), array([ 1.47721058, -0.12994786]), array([ 1.13254184, -0.98556266]), array([ 1.18050477, -1.02179116]), array([ 1.73330325, -0.52760626]), array([ 2.21921329, -0.34019271]), array([ 1.01122021, -0.55077088])]\n"
     ]
    }
   ],
   "source": [
    "ndim, nwalkers = 2, 100\n",
    "\n",
    "a_init = 1.5\n",
    "b_init = -0.5\n",
    "theta_init = np.array([a_init,b_init])\n",
    "\n",
    "pos = [theta_init + 5e-1*np.random.randn(ndim) for i in range(nwalkers)]\n",
    "データ点にガウス分布の誤差を持たせる",
    "print pos"
   ]
  },
  {
   "cell_type": "code",
   "execution_count": 9,
   "metadata": {},
   "outputs": [],
   "source": [
    "sampler = emcee.EnsembleSampler(nwalkers, ndim, lnlike, args=(x, y, yerr))\n"
   ]
  },
  {
   "cell_type": "code",
   "execution_count": 10,
   "metadata": {},
   "outputs": [
    {
     "data": {
      "text/plain": [
       "(array([[ 1.06844174, -0.50540828],\n",
       "        [ 0.89608487, -0.39514515],\n",
       "        [ 0.79968658,  0.74442395],\n",
       "        [ 0.92571159,  0.40370461],\n",
       "        [ 1.01173569, -0.2919663 ],\n",
       "        [ 0.96884038, -0.39988457],\n",
       "        [ 0.6927194 ,  0.89378886],\n",
       "        [ 0.95395518, -0.02635686],\n",
       "        [ 0.86461199,  0.31509624],\n",
       "        [ 0.84961524,  0.36137348],\n",
       "        [ 0.77827365,  0.79811744],\n",
       "        [ 1.06632281, -0.58407747],\n",
       "        [ 0.99781619, -0.55951628],\n",
       "        [ 0.73937551,  0.65747669],\n",
       "        [ 0.88391856,  0.37466172],\n",
       "        [ 0.89139454,  0.50522634],\n",
       "        [ 0.68527125,  1.06336193],\n",
       "        [ 0.89844084,  0.08528384],\n",
       "        [ 0.92038957,  0.55400391],\n",
       "        [ 0.94545906, -0.26597379],\n",
       "        [ 1.09813042, -0.53565228],\n",
       "        [ 0.76496403,  1.05276201],\n",
       "        [ 0.96418964, -0.08523587],\n",
       "        [ 0.9611391 ,  0.21760647],\n",
       "        [ 0.89996584,  0.29022758],\n",
       "        [ 0.90491362, -0.08783126],\n",
       "        [ 0.80909022,  0.51691191],\n",
       "        [ 0.92689555, -0.03498301],\n",
       "        [ 0.95046373,  0.18627498],\n",
       "        [ 0.94669885, -0.65517003],\n",
       "        [ 0.82955701,  0.27949505],\n",
       "        [ 0.97840555, -0.52063069],\n",
       "        [ 0.87745886,  0.22040096],\n",
       "        [ 0.76731776,  0.96909709],\n",
       "        [ 1.02033445, -0.33807198],\n",
       "        [ 0.87790002,  0.60437325],\n",
       "        [ 0.97237146, -0.18100876],\n",
       "        [ 0.95145734,  0.19160172],\n",
       "        [ 1.0007261 , -0.40110171],\n",
       "        [ 1.32057749, -2.13825423],\n",
       "        [ 1.00457646, -1.28817408],\n",
       "        [ 0.8929512 ,  0.79719214],\n",
       "        [ 0.8729514 ,  0.06889092],\n",
       "        [ 0.82975419,  0.31629714],\n",
       "        [ 1.00307863, -0.60686179],\n",
       "        [ 1.08436838, -0.15599975],\n",
       "        [ 0.95294818, -0.3022105 ],\n",
       "        [ 0.91521129, -0.1912751 ],\n",
       "        [ 0.80673992,  0.46403624],\n",
       "        [ 0.92648995,  0.22012509],\n",
       "        [ 0.7441953 ,  1.19056569],\n",
       "        [ 1.08516638, -0.9767296 ],\n",
       "        [ 0.96017055,  0.2973167 ],\n",
       "        [ 0.93794274, -0.17804772],\n",
       "        [ 0.92934296, -0.12032506],\n",
       "        [ 1.14685766, -0.56028559],\n",
       "        [ 0.75619937,  0.96286679],\n",
       "        [ 0.89963004,  0.29219577],\n",
       "        [ 0.99987967, -0.25368846],\n",
       "        [ 0.7773425 ,  0.63838791],\n",
       "        [ 0.84609199,  0.04608489],\n",
       "        [ 0.91906768,  0.30097095],\n",
       "        [ 1.06414753, -0.19387055],\n",
       "        [ 0.85289176,  0.61368427],\n",
       "        [ 1.0818445 , -0.77019819],\n",
       "        [ 0.8592371 , -0.3394863 ],\n",
       "        [ 0.87366278,  0.42287395],\n",
       "        [ 0.87571753,  0.42265785],\n",
       "        [ 0.97303388,  0.31418761],\n",
       "        [ 1.01583147, -0.4238889 ],\n",
       "        [ 0.9628989 , -0.27105706],\n",
       "        [ 0.84553812,  0.69501437],\n",
       "        [ 0.87796703,  0.32190701],\n",
       "        [ 0.78899856,  0.72915429],\n",
       "        [ 0.93070997, -0.02651631],\n",
       "        [ 0.97097995,  0.08899686],\n",
       "        [ 1.24590267, -1.65174859],\n",
       "        [ 1.00185156, -0.06689045],\n",
       "        [ 0.98460265, -0.5033605 ],\n",
       "        [ 1.05811006, -0.54314195],\n",
       "        [ 0.74752188,  1.51900487],\n",
       "        [ 1.04315631, -1.70663369],\n",
       "        [ 0.98056183,  0.29201627],\n",
       "        [ 0.89350804, -0.25404462],\n",
       "        [ 0.81332451,  0.68390387],\n",
       "        [ 0.98261694, -0.42757996],\n",
       "        [ 0.94763233,  0.22720895],\n",
       "        [ 0.88700092,  0.09120391],\n",
       "        [ 1.02289613,  0.01518729],\n",
       "        [ 0.98590222, -0.2728097 ],\n",
       "        [ 1.13695354, -1.23676694],\n",
       "        [ 0.78344038,  0.7371145 ],\n",
       "        [ 1.04456909, -1.23539674],\n",
       "        [ 0.88622603,  0.38804062],\n",
       "        [ 1.25591084, -1.86394217],\n",
       "        [ 1.01366542, -0.51077912],\n",
       "        [ 1.04244342, -0.05549307],\n",
       "        [ 0.77203874,  1.10388711],\n",
       "        [ 0.91732171,  0.52990976],\n",
       "        [ 1.12248605, -1.34753177]]),\n",
       " array([ -4.8703043 ,  -5.99801624,  -4.81680754,  -4.75677435,\n",
       "         -4.44979361,  -4.5808289 ,  -6.5491451 ,  -4.27394043,\n",
       "         -4.4224893 ,  -4.51251633,  -4.99693098,  -4.77891056,\n",
       "         -4.69882184,  -5.94420236,  -4.37534306,  -4.62436647,\n",
       "         -6.33091609,  -4.36288486,  -5.20027292,  -4.5127317 ,\n",
       "         -5.34273442,  -5.27043274,  -4.28562455,  -4.74714033,\n",
       "         -4.32990049,  -4.59317893,  -4.81864452,  -4.30197164,\n",
       "         -4.51939509,  -5.99383969,  -4.92455295,  -4.79396553,\n",
       "         -4.39373536,  -5.1544021 ,  -4.48950156,  -4.74500118,\n",
       "         -4.29727428,  -4.54296739,  -4.4247253 ,  -8.9513791 ,\n",
       "         -8.5848935 ,  -5.73393668,  -4.68981394,  -4.83722218,\n",
       "         -4.77237795,  -6.36433026,  -4.51630951,  -4.71237669,\n",
       "         -4.93506625,  -4.3631307 ,  -5.55556167,  -5.2086444 ,\n",
       "         -4.98923111,  -4.41352021,  -4.39058996,  -6.6093179 ,\n",
       "         -5.22829537,  -4.33085636,  -4.38901397,  -5.14182922,\n",
       "         -5.29889652,  -4.43773996,  -5.57424385,  -4.60361186,\n",
       "         -4.913836  ,  -6.9108074 ,  -4.40765649,  -4.40893503,\n",
       "         -5.33436685,  -4.4572854 ,  -4.38676661,  -4.72235109,\n",
       "         -4.35492953,  -4.90162146,  -4.27912171,  -4.56199774,\n",
       "         -7.21199133,  -4.65296286,  -4.67915285,  -4.71641078,\n",
       "         -6.71276624, -10.97652282,  -5.42093405,  -5.36976378,\n",
       "         -4.71453189,  -4.52720962,  -4.57799238,  -4.46028547,\n",
       "         -5.31768068,  -4.33933421,  -5.75665253,  -4.95765816,\n",
       "         -6.89202013,  -4.39245407,  -7.69704723,  -4.52866267,\n",
       "         -5.53974788,  -5.37202393,  -5.04825918,  -6.15300896]),\n",
       " ('MT19937', array([1978764030,  259266032,  876080862, 2667366428, 3336513790,\n",
       "          325332930, 3470483660, 2944650876, 2904029381, 3049491133,\n",
       "         2988568372,  694344259, 3488184079, 2310037672, 1303946487,\n",
       "         4003625323, 3812154931, 3469675672, 3994766783, 2644980918,\n",
       "         3828436720, 2159435239,  369965568, 2865113222, 2588568184,\n",
       "          960488261, 1535353308,  438311826,  920126485,  239358385,\n",
       "         2112461381, 2988754668, 3915317764, 1562766244, 3134547615,\n",
       "         4017808159, 1051363581,  977187898,  248500408,  776230888,\n",
       "         2426801854, 3174766469,  896993317,  736514551,   33948120,\n",
       "          794748602, 4168436751,  859797627, 2159613504, 2453472048,\n",
       "         2796744982, 2909765118, 4055196761, 2602623154, 4014297600,\n",
       "         3781641093, 1917503855, 1006557234, 3572578966, 1598800343,\n",
       "         4259952986, 1839676520,  879355538, 3376189317,  787801541,\n",
       "          592408362,  312250199, 2830881231, 2095846461, 1870804273,\n",
       "          924192191, 3631220902, 2273085859, 4074248608, 2130334689,\n",
       "           75424543, 1860763376, 3570211681,  257716732, 1150380126,\n",
       "          666630523, 2560910494, 2851198927,   38715605, 2163424738,\n",
       "         1065551633, 2754470570,  886446033, 1259358690, 2267078058,\n",
       "         3208747722, 3623553224, 1163838945,  176257205,  541277873,\n",
       "          688520827, 4183517207,  302778557,  904955610, 1415081686,\n",
       "          788420893, 1834023565, 3557853119,  313975497, 1210468469,\n",
       "         1094449419, 1900715679, 2638087373,  701328604, 3696768717,\n",
       "         3084569264, 3849048951, 1110129484, 1526718062, 1232010615,\n",
       "         1740240638, 3120997676,  854352417, 3379561270, 3112835356,\n",
       "         1058522696, 1547864978, 3234002621, 4148684865, 3366714556,\n",
       "         3545609903,  224263455, 2893105206, 2592541667, 1030741263,\n",
       "         2647933788,  164617804, 1180746979, 1233406426, 2996970598,\n",
       "          603839142, 2486799493, 1092487404,  976889925, 3225676929,\n",
       "         2879598026,  485785526, 3451293727,  926538006, 2738128169,\n",
       "         4101214461, 3459064714,  641658742, 2122570885, 4104852920,\n",
       "         3669851695, 3800590424, 2453363088, 3895806706, 1921399859,\n",
       "         2944233043, 1539985178, 1793321289, 2867431419, 2184355073,\n",
       "          538369741, 3281760136, 1602505516,  180831776, 1044257568,\n",
       "         3794643857, 1223306946, 4114952992,  903024592, 4054208748,\n",
       "         3254921254,  429019374, 3558683540, 2971706396, 2544980391,\n",
       "         1331976257, 3860819054,  954669025, 1127275391, 3691473896,\n",
       "         1715723683,  273458708, 2809746129, 1746095852, 2927837350,\n",
       "         2657909780, 1916398893, 2835237286, 1111830918, 1468173394,\n",
       "         3545927772, 3414530158,  667604023, 1902353098, 3675529605,\n",
       "         2270439304, 1895551745,  839597679, 2698134544, 3215235041,\n",
       "         3585834067, 1770734193, 3122485198, 3008155590, 1991758690,\n",
       "         3598349418, 1469879577,  550399328,  893435208, 2994307763,\n",
       "         1893813063,  113147960,  148921738, 1099170747, 2522852193,\n",
       "         1562067102, 2095047127,  117321371, 3863841106, 2265169819,\n",
       "         2685232779, 3518252955, 2479961989,  913085962, 3923709314,\n",
       "           68320149, 1640679485, 2480261533, 2967731795, 1299152061,\n",
       "         1995489947, 2754430699, 2198125766, 2395050703, 3452707418,\n",
       "         4014948654, 2075595437, 3591697999, 1626257996, 4048017815,\n",
       "          615582518, 4093463828, 3666766143,  269229521,  263257830,\n",
       "          972772716, 2081003442, 1024270013, 2029849565, 1506144140,\n",
       "         3179653701, 2908495190, 3660344936, 3273389505,  995900049,\n",
       "         3150799168, 3157737725, 2348931168, 2911576319,  246459095,\n",
       "         3750125078, 1990977644, 1155280253, 3369447487, 1028918276,\n",
       "         1268747443, 1558914421,  718175626, 4009015023, 3918950504,\n",
       "         2466820829, 2894643715, 2263088790, 1073151778, 3647295398,\n",
       "          952624716, 3467784503, 2474156402, 3660573771, 2140091524,\n",
       "         1546110289,  708676149,  743569135, 3438273727, 2328281072,\n",
       "         1015209468, 2201320122, 4149563312, 2076798133, 3293627067,\n",
       "         2832922523, 2278638560, 4158631141, 1356995597, 2708345707,\n",
       "          259929112, 3903926316,  638835508, 1647695683, 1810877999,\n",
       "         1752307254,  575996977, 4099130548,  197340062, 2875447551,\n",
       "         2709194216, 4124723009, 2238915505, 4132189782, 3494522344,\n",
       "         3991628794, 3011803321, 3358750067, 1043962468, 1183094612,\n",
       "         1607172428, 4150171262, 2265775901, 2318827589, 1491524282,\n",
       "         3648430006,   23120823, 4205880326,  485481391, 1543710730,\n",
       "          166249804, 3250155010, 4137412262, 1415341584, 2171087524,\n",
       "         2836505827, 2987164866, 1419378786, 4182114203, 1641679311,\n",
       "         4140876275, 1364266473, 2057998218, 3748117867,  400597116,\n",
       "         2841489779, 1787889435, 2989993285, 1662295900, 3589499054,\n",
       "         2445821674,  913248476, 2136429207, 1841653376, 2092767055,\n",
       "         2881002528, 4099768476,     169933, 1726165394,  996316608,\n",
       "         3115001510, 2598063850, 2385526027, 3165579394, 3996129813,\n",
       "         2818896764, 3425034950, 2104191910, 3578630972,  560990498,\n",
       "         1473867857,   92652490, 3052562444,  473926141, 1750304549,\n",
       "          698422175, 2989865071, 2150308344,  825562788,  407233355,\n",
       "         2043484808, 2116652319, 1683798438, 1322984523, 1225321451,\n",
       "         2201996225, 1554114148, 3646258314, 1623908517, 1289435783,\n",
       "         1723008392,  504210984,  106362627, 3839958439, 1968745621,\n",
       "          765616353,  637410085, 4073400732, 3644896307,  130501968,\n",
       "         2987876135, 2575515772, 4288106550, 3722327229, 1650465924,\n",
       "         1537942904, 3984604786, 2797910131, 3971671039, 3566756242,\n",
       "         1224882234, 1921201360, 1447305333, 1443110429, 1808139073,\n",
       "         2109661105, 3457788490, 4034743838,  442173164, 1728842606,\n",
       "         3141309226,  118300628, 3457140427, 3440162878, 2351987253,\n",
       "          641225798, 1741453515, 1508479167, 1324322944, 2323730868,\n",
       "          727434817, 3068613502,  553446590,  858054371,   63017396,\n",
       "         1397395667, 1036022111, 1180487396,  240427986, 1391070179,\n",
       "         3913497533, 3182504678, 1852868669, 2092599613, 2945673443,\n",
       "          159368078, 3500468710, 2330939272, 2167375920, 2926433096,\n",
       "          582521571, 1346164419, 4170241051, 1083442044, 1979784102,\n",
       "         3838011805, 1837861540, 1931744978, 2463321045, 3075507276,\n",
       "         3354150282, 1961008188, 2728358084, 1101606739, 4025294886,\n",
       "         3539537063, 3756335999, 3891849993, 2259620612, 3466314026,\n",
       "         3767614719, 2226487180, 1304726290,  234384462, 3390277591,\n",
       "         1997927630, 1354100899, 2744472323, 1839028903, 4095794959,\n",
       "         2231591429,  907428530, 1512724673, 3539632855, 3040694776,\n",
       "          341854435, 2765150420,  106362710, 3256464021, 3675113674,\n",
       "         2916428813,  742110659, 2608669846, 1845936516,  206380079,\n",
       "         1817420125, 3381276492, 3817621743, 1959312654,  162932302,\n",
       "         2682592280, 4006624651,  455024208, 3107091730, 2177120389,\n",
       "         1112740378, 1138744976, 3802539170, 1441958703, 3398667302,\n",
       "         3020051909,  227956120, 4159896179, 1201164111, 3807850231,\n",
       "         3422426625, 1295228290, 2212622233, 1960648922, 3966910404,\n",
       "         2907281889, 1201866015, 3306824707,  681880273, 1572260782,\n",
       "          251048691,  376024614,  908760983, 2936481261, 2938245340,\n",
       "          774614812, 2240088231,  503132534,  288297826, 1468876339,\n",
       "          899332921, 3931685520, 1562646331, 1091289736, 1690823157,\n",
       "         2530376537, 1451240355, 3032139106, 3042483322, 3764443737,\n",
       "         4031888793, 1069168800, 1725578012, 2757241891, 4219531643,\n",
       "         2986343040,  544189594, 2917337909, 2665556920, 2663743611,\n",
       "         3415362058, 2929671369,  596315300,   18631465, 3228991900,\n",
       "         1332822160, 1364233292,  839584350, 3332562749,  491562679,\n",
       "          312387025, 2640799571, 2220799098, 3412017997, 1641838218,\n",
       "         1973791106, 1653445436, 4272436379, 1275748484, 1917374864,\n",
       "          979828062, 2486949186, 1749864852, 2528635015, 2025906327,\n",
       "         2393265993, 4017802457, 2028305019, 1821320878, 3884157516,\n",
       "         2538860798, 1491161751,  674324235, 1807640451, 3769829596,\n",
       "         1001768068, 3023344421,  569925702, 2294550851, 3983355817,\n",
       "         1695404825,  653593318,  778479009, 2908044996, 4181303087,\n",
       "         3828990419, 1612566330, 3444732264,  571682390,  392280607,\n",
       "         2721421669, 3721537096,  734449483, 3017619371, 1930801693,\n",
       "         2784096324, 3597805090,  426264986, 1276344468, 3177776700,\n",
       "         1553032740, 2530388916, 3161309869, 2741362119,  221255125,\n",
       "         4081262432, 2067990594, 2473577438,  166160040, 4091731462,\n",
       "         2906311825,  630029626, 2348962564, 3816523011], dtype=uint32), 47, 0, 0.0))"
      ]
     },
     "execution_count": 10,
     "metadata": {},
     "output_type": "execute_result"
    }
   ],
   "source": [
    "sampler.run_mcmc(pos, 500)"
   ]
  },
  {
   "cell_type": "code",
   "execution_count": 11,
   "metadata": {},
   "outputs": [],
   "source": [
    "samples = sampler.chain[:, :, :].reshape((-1, ndim))"
   ]
  },
  {
   "cell_type": "code",
   "execution_count": 12,
   "metadata": {},
   "outputs": [
    {
     "data": {
      "text/plain": [
       "<matplotlib.text.Text at 0x118b0a890>"
      ]
     },
     "execution_count": 12,
     "metadata": {},
     "output_type": "execute_result"
    },
    {
     "data": {
      "image/png": "[encoded data removed]",
      "text/plain": [
       "<matplotlib.figure.Figure at 0x11878e790>"
      ]
     },
     "metadata": {
      "needs_background": "light"
     },
     "output_type": "display_data"
    },
    {
     "data": {
      "image/png": "[encoded data removed]",
      "text/plain": [
       "<matplotlib.figure.Figure at 0x118a6bd90>"
      ]
     },
     "metadata": {
      "needs_background": "light"
     },
     "output_type": "display_data"
    }
   ],
   "source": [
    "plt.figure()\n",
    "plt.plot(samples[:,0]) # a\n",
    "plt.xlabel(\"steps\")\n",
    "plt.xlim(0, 100)\n",
    "plt.ylabel(\"a\")\n",
    "plt.figure()\n",
    "plt.plot(samples[:,1]) # b\n",
    "plt.xlabel(\"steps\")\n",
    "plt.xlim(0, 100)\n",
    "plt.ylabel(\"b\")\n",
    "\n"
   ]
  },
  {
   "cell_type": "code",
   "execution_count": 13,
   "metadata": {},
   "outputs": [],
   "source": [
    "samples = sampler.chain[:, 50:, :].reshape((-1, ndim))"
   ]
  },
  {
   "cell_type": "code",
   "execution_count": 14,
   "metadata": {},
   "outputs": [
    {
     "data": {
      "text/plain": [
       "<matplotlib.text.Text at 0x11d12e450>"
      ]
     },
     "execution_count": 14,
     "metadata": {},
     "output_type": "execute_result"
    },
    {
     "data": {
      "image/png": "[encoded data removed]",
      "text/plain": [
       "<matplotlib.figure.Figure at 0x11cd83d50>"
      ]
     },
     "metadata": {
      "needs_background": "light"
     },
     "output_type": "display_data"
    },
    {
     "data": {
      "image/png": "[encoded data removed]",
      "text/plain": [
       "<matplotlib.figure.Figure at 0x11d0f7950>"
      ]
     },
     "metadata": {
      "needs_background": "light"
     },
     "output_type": "display_data"
    }
   ],
   "source": [
    "plt.figure()\n",
    "plt.plot(samples[:,0]) # a\n",
    "plt.xlabel(\"steps\")\n",
    "plt.xlim(0, 100)\n",
    "plt.ylabel(\"a\")\n",
    "plt.figure()\n",
    "plt.plot(samples[:,1]) # b\n",
    "plt.xlabel(\"steps\")\n",
    "plt.xlim(0, 100)\n",
    "plt.ylabel(\"b\")\n"
   ]
  },
  {
   "cell_type": "code",
   "execution_count": 15,
   "metadata": {},
   "outputs": [
    {
     "data": {
      "image/png": "[encoded data removed]",
      "text/plain": [
       "<matplotlib.figure.Figure at 0x118bdaa90>"
      ]
     },
     "metadata": {
      "needs_background": "light"
     },
     "output_type": "display_data"
    }
   ],
   "source": [
    "import corner\n",
    "fig = corner.corner(samples, labels=[\"$a$\", \"$b$\"],truths=[1,0])\n",
    "#fig.savefig(\"triangle.png\")"
   ]
  },
  {
   "cell_type": "code",
   "execution_count": 16,
   "metadata": {},
   "outputs": [],
   "source": [
    "a_mcmc, b_mcmc = map(lambda v: (v[1], v[2]-v[1], v[1]-v[0]),zip(*np.percentile(samples, [16, 50, 84],axis=0)))"
   ]
  },
  {
   "cell_type": "code",
   "execution_count": 17,
   "metadata": {},
   "outputs": [
    {
     "name": "stdout",
     "output_type": "stream",
     "text": [
      "(0.92828824377934405, 0.1291964297557302, 0.1273601400250689)\n",
      "(0.058850178960861976, 0.72601656518422675, 0.73058328659088312)\n"
     ]
    }
   ],
   "source": [
    "print a_mcmc\n",
    "print b_mcmc"
   ]
  },
  {
   "cell_type": "code",
   "execution_count": 18,
   "metadata": {},
   "outputs": [
    {
     "name": "stdout",
     "output_type": "stream",
     "text": [
      "a=0.928288243779^+0.129196429756_-0.127360140025\n",
      "b=0.0588501789609^+0.726016565184_-0.730583286591\n"
     ]
    }
   ],
   "source": [
    "print \"a=%s^+%s_-%s\" % (a_mcmc[0], a_mcmc[1], a_mcmc[2])\n",
    "print \"b=%s^+%s_-%s\" % (b_mcmc[0], b_mcmc[1], b_mcmc[2])"
   ]
  },
  {
   "cell_type": "code",
   "execution_count": 21,
   "metadata": {},
   "outputs": [],
   "source": [
    "chi2 = np.sum((y - f(x, a_mcmc[0], b_mcmc[0]))**2/yerr**2)\n",
    "dof = len(x) - ndim"
   ]
  },
  {
   "cell_type": "code",
   "execution_count": 22,
   "metadata": {},
   "outputs": [
    {
     "name": "stdout",
     "output_type": "stream",
     "text": [
      "chi^2/dof = 8.51302182092/7 = 1.21614597442\n"
     ]
    }
   ],
   "source": [
    "print \"chi^2/dof = %s/%s = %s\" % (chi2, dof, chi2/dof)\n"
   ]
  },
  {
   "cell_type": "code",
   "execution_count": null,
   "metadata": {},
   "outputs": [],
   "source": []
  }
 ],
 "metadata": {
  "kernelspec": {
   "display_name": "Python 2",
   "language": "python",
   "name": "python2"
  },
  "language_info": {
   "codemirror_mode": {
    "name": "ipython",
    "version": 2
   },
   "file_extension": ".py",
   "mimetype": "text/x-python",
   "name": "python",
   "nbconvert_exporter": "python",
   "pygments_lexer": "ipython2",
   "version": "2.7.15"
  }
 },
 "nbformat": 4,
 "nbformat_minor": 2
}
